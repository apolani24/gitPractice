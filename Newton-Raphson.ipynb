{
 "cells": [
  {
   "cell_type": "code",
   "execution_count": null,
   "metadata": {},
   "outputs": [],
   "source": []
  },
  {
   "cell_type": "markdown",
   "metadata": {},
   "source": [
    "Set-up: f(x) is a continuously differentiable real-valued function of a real variable.\n",
    "\n",
    "Suppose z is a point such that f(z) = 0.\n",
    "\n",
    "We estimate a point $x_0$ such that if we take the tangent at $x_0$ and let it cross the x-axis, the point at which intersection occurs, $x_1$,  should be a better estimate if we chose $x_0$ appropiately.\n",
    "\n",
    "Algebraically, we have that:\n",
    "\n",
    "$x_1 = x_0 - \\frac{f(x_0)}{f'(x_0)}$\n",
    "\n",
    "In general, we can say that:\n",
    "\n",
    "$g(x) = x - \\frac{f(x)}{f'(x)}$\n",
    "\n",
    "The above is the Newton function. Note that f(z) = 0 iff g(z) = 0, assuming f'(z) $\\neq$ 0. This means that we want to find a fixed point for g(x) in order to find the solution for f(x) = 0.\n",
    "\n",
    "We can use the Mean-Value theorem to prove that if x is close enough to z, our solution will converge appropiately. \n",
    "\n",
    "Mean Value Theorem:\n",
    "\n",
    "Suppose that h is continuous on the interval [a,b] and differentiable on (a,b). Then there exists a c such that a < c < b and:\n",
    "\n",
    "$f'(x_0) = \\frac{f(b) - f(a)}{b-a}$\n",
    "\n",
    "Note that $g'(x) = \\frac{f(x)f''(x)}{(f'x)^2}$, which implies that g'(z) = 0.\n",
    "\n",
    "Let h > 0 such that in the open interval of size h around z, any point satisfies the condition that |g(x)|' < 1/2.\n",
    "\n",
    "Applying the MVT, we have that $g'(c) = \\frac{g(x_0) - g(z)}{x_0-z} = \\frac{g(x_0) - z}{x_0-z} < \\frac{1}{2}$.\n",
    "\n",
    "Therefore, $g(x_0) - z < \\frac{1}{2}(x_0 - z)$.\n"
   ]
  },
  {
   "cell_type": "code",
   "execution_count": 5,
   "metadata": {},
   "outputs": [
    {
     "name": "stdout",
     "output_type": "stream",
     "text": [
      "What degree is your polynomial? 1\n",
      "What value is approximatley a zero? 1\n",
      "How many times would you like the function to repeat? 1\n",
      "Enter the first degree term \n",
      "1\n",
      "Enter the 0 th degree term \n",
      "1\n",
      "[1, 1]\n",
      "-1.0\n"
     ]
    }
   ],
   "source": [
    "import scipy # Using for the polynomial class and possibly derivatives\n",
    "\n",
    "\n",
    "degree = input(\"What degree is your polynomial? \")\n",
    "guess = input(\"What value is approximatley a zero? \")\n",
    "reps = input(\"How many times would you like the function to repeat? \")\n",
    "\n",
    "polyList = []\n",
    "\n",
    "for i in range(int(degree) + 1):\n",
    "    if( i != (int(degree) - 1)):\n",
    "        print(f\"Enter the {int(degree) - i} th degree term \")\n",
    "    else:\n",
    "        print(\"Enter the first degree term \")\n",
    "    n = input()\n",
    "    polyList.append(int(n))\n",
    "print(polyList)\n",
    "\n",
    "poly = scipy.poly1d(polyList)\n",
    "x0 = 0\n",
    "\n",
    "for i in range(int(n)):\n",
    "    x1 = x0 - (poly(x0)) / (poly.deriv(1)(x0))\n",
    "    x0 = x1\n",
    "    print(x0)"
   ]
  },
  {
   "cell_type": "code",
   "execution_count": 25,
   "metadata": {},
   "outputs": [
    {
     "data": {
      "text/plain": [
       "'Hiya, my favorite variable is 0 but definitely not 0'"
      ]
     },
     "execution_count": 25,
     "metadata": {},
     "output_type": "execute_result"
    }
   ],
   "source": [
    "import scipy \n",
    "\n",
    "x0 = 0\n",
    "poly = scipy.poly1d([1,2,-3])\n",
    "\n",
    "poly.deriv(1)(.5)\n",
    "\n",
    "f\"Hiya, my favorite variable is {x0} but definitely not {x0}\"\n",
    "\n"
   ]
  },
  {
   "cell_type": "code",
   "execution_count": null,
   "metadata": {},
   "outputs": [],
   "source": []
  }
 ],
 "metadata": {
  "kernelspec": {
   "display_name": "Python 3",
   "language": "python",
   "name": "python3"
  },
  "language_info": {
   "codemirror_mode": {
    "name": "ipython",
    "version": 3
   },
   "file_extension": ".py",
   "mimetype": "text/x-python",
   "name": "python",
   "nbconvert_exporter": "python",
   "pygments_lexer": "ipython3",
   "version": "3.6.5"
  }
 },
 "nbformat": 4,
 "nbformat_minor": 2
}
